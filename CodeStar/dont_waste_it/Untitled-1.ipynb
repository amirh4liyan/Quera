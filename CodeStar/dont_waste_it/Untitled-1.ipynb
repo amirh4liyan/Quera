{
 "cells": [
  {
   "cell_type": "code",
   "execution_count": 49,
   "metadata": {},
   "outputs": [],
   "source": [
    "# get lines\n",
    "lines = []\n",
    "while True:\n",
    "    data = input()\n",
    "    if data != \"<end_of_dic>\":\n",
    "        lines.append(data)\n",
    "    else:\n",
    "        # get text\n",
    "        text = input()\n",
    "        break"
   ]
  },
  {
   "cell_type": "code",
   "execution_count": 50,
   "metadata": {},
   "outputs": [],
   "source": [
    "# parsing lines\n",
    "words = {}\n",
    "for line in lines:\n",
    "    line = line.split()\n",
    "    words[line[0]] = line[1]"
   ]
  },
  {
   "cell_type": "code",
   "execution_count": 51,
   "metadata": {},
   "outputs": [],
   "source": [
    "# make a dictionary\n",
    "wordsList = list(words.keys())\n",
    "wordsList.sort(key=len, reverse=True)"
   ]
  },
  {
   "cell_type": "code",
   "execution_count": 52,
   "metadata": {},
   "outputs": [],
   "source": [
    "# translate variable\n",
    "translated = []\n",
    "for i in range(len(text)):\n",
    "    translated.append(-1)"
   ]
  },
  {
   "cell_type": "code",
   "execution_count": 53,
   "metadata": {},
   "outputs": [],
   "source": [
    "# translating\n",
    "for i in range(len(wordsList)):\n",
    "    while True:\n",
    "        a = text.find(wordsList[i])\n",
    "        if a != -1:\n",
    "            translated[a] = words[wordsList[i]]\n",
    "            b = a + len(wordsList[i])\n",
    "            text = text[:a] + \" \" + text[b:]\n",
    "        else:\n",
    "            break"
   ]
  },
  {
   "cell_type": "code",
   "execution_count": 54,
   "metadata": {},
   "outputs": [],
   "source": [
    "# replace unknown with .\n",
    "for i in range(len(text)):\n",
    "    if text[i] != \" \":\n",
    "        translated[i] = \".\"\n",
    "        text = text[:i] + \" \" + text[i+1:]"
   ]
  },
  {
   "cell_type": "code",
   "execution_count": 55,
   "metadata": {},
   "outputs": [],
   "source": [
    "# remove extra blocks\n",
    "for i in range(translated.count(-1)):\n",
    "    translated.remove(-1)"
   ]
  },
  {
   "cell_type": "code",
   "execution_count": 56,
   "metadata": {},
   "outputs": [
    {
     "name": "stdout",
     "output_type": "stream",
     "text": [
      ". we we :)\n"
     ]
    }
   ],
   "source": [
    "# print translated string\n",
    "newText = \" \".join(translated)\n",
    "print(newText)"
   ]
  }
 ],
 "metadata": {
  "interpreter": {
   "hash": "31f2aee4e71d21fbe5cf8b01ff0e069b9275f58929596ceb00d14d90e3e16cd6"
  },
  "kernelspec": {
   "display_name": "Python 3.6.9 64-bit",
   "language": "python",
   "name": "python3"
  },
  "language_info": {
   "codemirror_mode": {
    "name": "ipython",
    "version": 3
   },
   "file_extension": ".py",
   "mimetype": "text/x-python",
   "name": "python",
   "nbconvert_exporter": "python",
   "pygments_lexer": "ipython3",
   "version": "3.6.9"
  },
  "orig_nbformat": 4
 },
 "nbformat": 4,
 "nbformat_minor": 2
}
